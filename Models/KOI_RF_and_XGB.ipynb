{
 "cells": [
  {
   "cell_type": "markdown",
   "id": "21a46942-ae61-47f3-85e3-83b80d9e92fa",
   "metadata": {},
   "source": [
    "# Import packages and process data"
   ]
  },
  {
   "cell_type": "code",
   "execution_count": 1,
   "id": "ef0471f7-8bd0-429a-9689-d2d0484dedfb",
   "metadata": {},
   "outputs": [],
   "source": [
    "import pandas as pd\n",
    "import numpy as np\n",
    "import csv\n",
    "from sklearn.model_selection import train_test_split\n",
    "from sklearn.inspection import permutation_importance\n",
    "from sklearn.ensemble import RandomForestClassifier\n",
    "from sklearn import metrics\n",
    "import xgboost as xgb\n",
    "import matplotlib.pyplot as plt"
   ]
  },
  {
   "cell_type": "code",
   "execution_count": 2,
   "id": "f6a4df5a-3f6a-4c11-b1e3-c542aff7990e",
   "metadata": {},
   "outputs": [],
   "source": [
    "dataroot = 'koi_2000.csv'\n",
    "testroot = 'koi_test.csv'\n",
    "dropped = ['loc_rowid','kepid','kepoi_name','koi_disposition']\n",
    "\n",
    "# open training csv file\n",
    "with open(dataroot, newline='') as csvfile:\n",
    "  df = pd.read_csv(dataroot)\n",
    "# drop unused columns\n",
    "df = df.drop(columns=dropped)\n",
    "df = df.dropna()\n",
    "data = df.to_numpy()\n",
    "\n",
    "# open testing csv file\n",
    "with open(testroot,newline='') as csvfile:\n",
    "  test_df = pd.read_csv(testroot)\n",
    "# drop unused columns\n",
    "test_df = test_df.drop(columns=dropped)\n",
    "test_df = test_df.dropna()\n",
    "test_data = test_df.to_numpy()\n",
    "\n",
    "# extract features columns\n",
    "features = df.columns[:-1]"
   ]
  },
  {
   "cell_type": "markdown",
   "id": "c9ef9e22-7e81-4b40-839f-2ee8c953fbea",
   "metadata": {},
   "source": [
    "# Split data into training and testing"
   ]
  },
  {
   "cell_type": "code",
   "execution_count": 3,
   "id": "5588c17d-6fc0-4ef1-af16-f23c65680836",
   "metadata": {},
   "outputs": [
    {
     "name": "stdout",
     "output_type": "stream",
     "text": [
      "(1517, 14)\n",
      "(1517,)\n"
     ]
    }
   ],
   "source": [
    "# split dataset into training and validation\n",
    "x = data[:,:-1]\n",
    "y = data[:,-1:].flatten()\n",
    "x_train,_, y_train,_ = train_test_split(x, y, train_size=1517,shuffle = False)\n",
    "print(x_train.shape)\n",
    "print(y_train.shape)"
   ]
  },
  {
   "cell_type": "code",
   "execution_count": 4,
   "id": "b9f8267d-69ed-40dd-a4f8-e2e0308d3e7d",
   "metadata": {},
   "outputs": [
    {
     "name": "stdout",
     "output_type": "stream",
     "text": [
      "(367, 14)\n",
      "(367,)\n"
     ]
    }
   ],
   "source": [
    "x_test = test_data[:,:-1]\n",
    "y_test = test_data[:,-1:].flatten()\n",
    "print(x_test.shape)\n",
    "print(y_test.shape)"
   ]
  },
  {
   "cell_type": "markdown",
   "id": "5eb77ad4-11a1-433d-b244-d6687cce1705",
   "metadata": {},
   "source": [
    "# 1. sklearn RandomForestClassifier"
   ]
  },
  {
   "cell_type": "code",
   "execution_count": 27,
   "id": "0af6ee86-26e5-48bd-90e8-9f5e021c868c",
   "metadata": {},
   "outputs": [],
   "source": [
    "# train RandomForestClassifier\n",
    "clf = RandomForestClassifier(n_estimators = 100)  \n",
    "clf.fit(x_train, y_train)\n",
    "y_pred1 = clf.predict(x_test)"
   ]
  },
  {
   "cell_type": "markdown",
   "id": "7863d420-7d29-4d60-b300-f97f463ec204",
   "metadata": {},
   "source": [
    "## a. RandomForestClassifier's f1 score and classification report"
   ]
  },
  {
   "cell_type": "code",
   "execution_count": 28,
   "id": "d3dac640-8a18-4dd3-b03a-6f15cf25490d",
   "metadata": {},
   "outputs": [
    {
     "name": "stdout",
     "output_type": "stream",
     "text": [
      "f1 score: 0.8514851485148515\n"
     ]
    }
   ],
   "source": [
    "print(f'f1 score: {metrics.f1_score(y_test, y_pred1)}') # f1 score"
   ]
  },
  {
   "cell_type": "code",
   "execution_count": 29,
   "id": "dbf8bd47-a0f8-4f86-99d9-4b8a4bacc093",
   "metadata": {},
   "outputs": [
    {
     "name": "stdout",
     "output_type": "stream",
     "text": [
      "              precision    recall  f1-score   support\n",
      "\n",
      "         0.0       0.90      0.75      0.82       180\n",
      "         1.0       0.79      0.92      0.85       187\n",
      "\n",
      "    accuracy                           0.84       367\n",
      "   macro avg       0.85      0.83      0.83       367\n",
      "weighted avg       0.85      0.84      0.84       367\n",
      "\n"
     ]
    }
   ],
   "source": [
    "print(metrics.classification_report(y_test,y_pred1)) # classification report"
   ]
  },
  {
   "cell_type": "markdown",
   "id": "75ac98f8-3eac-4236-bca4-b8577cbcbe0d",
   "metadata": {},
   "source": [
    "## b. RandomForestClassifier's feature importance"
   ]
  },
  {
   "cell_type": "code",
   "execution_count": 30,
   "id": "da9b400b-49fd-490c-8081-bf1fe453e31b",
   "metadata": {},
   "outputs": [
    {
     "name": "stdout",
     "output_type": "stream",
     "text": [
      "          Feature  Gini Importance\n",
      "1      koi_impact         0.265370\n",
      "3       koi_depth         0.138214\n",
      "6   koi_model_snr         0.097773\n",
      "7       koi_steff         0.057907\n",
      "9        koi_smet         0.054689\n",
      "4         koi_teq         0.053084\n",
      "0      koi_period         0.051126\n",
      "5       koi_insol         0.049712\n",
      "10       koi_srad         0.042570\n",
      "11      koi_smass         0.038851\n",
      "2    koi_duration         0.038331\n",
      "8       koi_slogg         0.037975\n",
      "12             ra         0.037561\n",
      "13            dec         0.036838\n"
     ]
    }
   ],
   "source": [
    "# get feature importance data\n",
    "importances = clf.feature_importances_\n",
    "# display feature importance as dataframe\n",
    "feature_imp_df1 = pd.DataFrame({'Feature':features,'Gini Importance': importances}).sort_values('Gini Importance', ascending=False) \n",
    "print(feature_imp_df1)"
   ]
  },
  {
   "cell_type": "markdown",
   "id": "17367932-dbff-4b0d-8292-a710e0ac5139",
   "metadata": {},
   "source": [
    "## c. RandomForestClassifier's confusion matrix"
   ]
  },
  {
   "cell_type": "code",
   "execution_count": 31,
   "id": "a7d3377e-371b-4a94-b871-1560c96d02e8",
   "metadata": {},
   "outputs": [
    {
     "data": {
      "image/png": "[encoded data removed]",
      "text/plain": [
       "<Figure size 640x480 with 2 Axes>"
      ]
     },
     "metadata": {},
     "output_type": "display_data"
    }
   ],
   "source": [
    "# confusion matrix\n",
    "cm1 = metrics.confusion_matrix(y_test,y_pred1,labels=clf.classes_)\n",
    "display1 = metrics.ConfusionMatrixDisplay(confusion_matrix=cm1,display_labels=clf.classes_)\n",
    "display1.plot(cmap=plt.cm.Blues).figure_.savefig('confusion_matrix.png')"
   ]
  },
  {
   "cell_type": "markdown",
   "id": "c2411e00-55a3-46a2-860b-e5f05bbe7374",
   "metadata": {},
   "source": [
    "# 2. XGBClassifier"
   ]
  },
  {
   "cell_type": "code",
   "execution_count": 32,
   "id": "0d6502cf-be17-4f69-a6f6-cc39ef71bced",
   "metadata": {},
   "outputs": [],
   "source": [
    "# train XGBClassifier\n",
    "model = xgb.XGBClassifier()\n",
    "model.fit(x_train,y_train)\n",
    "y_pred2 = model.predict(x_test)"
   ]
  },
  {
   "cell_type": "markdown",
   "id": "22b44372-1b7e-4fa0-825f-5c1052d288f6",
   "metadata": {},
   "source": [
    "## a. XGBClassifier's f1 score and classification report"
   ]
  },
  {
   "cell_type": "code",
   "execution_count": 33,
   "id": "1946d5a9-5ebc-40d6-bb14-37e1abe398be",
   "metadata": {},
   "outputs": [
    {
     "name": "stdout",
     "output_type": "stream",
     "text": [
      "0.8522167487684729\n"
     ]
    }
   ],
   "source": [
    "print(metrics.f1_score(y_test,y_pred2)) # f1 score"
   ]
  },
  {
   "cell_type": "code",
   "execution_count": 34,
   "id": "5c6ec275-bb91-4d21-8ded-f0bc96dec09f",
   "metadata": {},
   "outputs": [
    {
     "name": "stdout",
     "output_type": "stream",
     "text": [
      "              precision    recall  f1-score   support\n",
      "\n",
      "         0.0       0.91      0.74      0.82       180\n",
      "         1.0       0.79      0.93      0.85       187\n",
      "\n",
      "    accuracy                           0.84       367\n",
      "   macro avg       0.85      0.83      0.83       367\n",
      "weighted avg       0.85      0.84      0.83       367\n",
      "\n"
     ]
    }
   ],
   "source": [
    "print(metrics.classification_report(y_test,y_pred2)) # classification report"
   ]
  },
  {
   "cell_type": "markdown",
   "id": "5a6d6f3a-11ea-4c72-a62d-8a43adc8fd29",
   "metadata": {},
   "source": [
    "## b. XGBClassifier's feature importance"
   ]
  },
  {
   "cell_type": "code",
   "execution_count": 35,
   "id": "f0ca6314-2fed-4905-b886-36c16482c185",
   "metadata": {},
   "outputs": [],
   "source": [
    "# get gain score\n",
    "gain = model.get_booster().get_score(importance_type=\"gain\")\n",
    "gain_score = np.array(list(gain.values()))"
   ]
  },
  {
   "cell_type": "code",
   "execution_count": 36,
   "id": "087d7eb6-6b3e-4e93-862b-a2fc043292b0",
   "metadata": {},
   "outputs": [
    {
     "name": "stdout",
     "output_type": "stream",
     "text": [
      "          Feature      Gain\n",
      "1      koi_impact  6.746367\n",
      "5       koi_insol  3.764662\n",
      "3       koi_depth  3.209904\n",
      "6   koi_model_snr  2.723500\n",
      "4         koi_teq  1.894486\n",
      "9        koi_smet  1.870420\n",
      "0      koi_period  1.344269\n",
      "10       koi_srad  1.216147\n",
      "11      koi_smass  1.145631\n",
      "13            dec  1.054322\n",
      "7       koi_steff  1.037078\n",
      "2    koi_duration  0.998991\n",
      "12             ra  0.811657\n",
      "8       koi_slogg  0.807274\n"
     ]
    }
   ],
   "source": [
    "# display feature importance as dataframe\n",
    "feature_imp_df2 = pd.DataFrame({'Feature':features,'Gain': gain_score}).sort_values('Gain', ascending=False) \n",
    "print(feature_imp_df2)"
   ]
  },
  {
   "cell_type": "markdown",
   "id": "841a7fe3-9a56-4b1b-8307-54941affcd6a",
   "metadata": {},
   "source": [
    "## c. XGBClassifier's confusion matrix"
   ]
  },
  {
   "cell_type": "code",
   "execution_count": 37,
   "id": "e2548ccf-8aab-4b06-ba4f-44ce91a52ad9",
   "metadata": {},
   "outputs": [
    {
     "data": {
      "image/png": "[encoded data removed]",
      "text/plain": [
       "<Figure size 640x480 with 2 Axes>"
      ]
     },
     "metadata": {},
     "output_type": "display_data"
    }
   ],
   "source": [
    "# confusion matrix\n",
    "cm2 = metrics.confusion_matrix(y_test,y_pred2,labels=model.classes_)\n",
    "display2 = metrics.ConfusionMatrixDisplay(confusion_matrix=cm2,display_labels=model.classes_)\n",
    "display2.plot(cmap=plt.cm.Blues).figure_.savefig('confusion_matrix2.png')"
   ]
  },
  {
   "cell_type": "code",
   "execution_count": null,
   "id": "61ea2a34-0e26-4f0d-96dc-de2018d4725e",
   "metadata": {},
   "outputs": [],
   "source": []
  }
 ],
 "metadata": {
  "kernelspec": {
   "display_name": "Python 3 (ipykernel)",
   "language": "python",
   "name": "python3"
  },
  "language_info": {
   "codemirror_mode": {
    "name": "ipython",
    "version": 3
   },
   "file_extension": ".py",
   "mimetype": "text/x-python",
   "name": "python",
   "nbconvert_exporter": "python",
   "pygments_lexer": "ipython3",
   "version": "3.10.15"
  }
 },
 "nbformat": 4,
 "nbformat_minor": 5
}
